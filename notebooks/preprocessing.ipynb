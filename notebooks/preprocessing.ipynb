{
 "cells": [
  {
   "cell_type": "code",
   "execution_count": 81,
   "id": "6f1b1930",
   "metadata": {},
   "outputs": [],
   "source": [
    "import json\n",
    "import pandas as pd"
   ]
  },
  {
   "cell_type": "markdown",
   "id": "97fb7f21",
   "metadata": {},
   "source": [
    "## Data Loading"
   ]
  },
  {
   "cell_type": "code",
   "execution_count": null,
   "id": "4297e222",
   "metadata": {},
   "outputs": [],
   "source": [
    "with open('../data/message_1.json', encoding='utf-8') as f:\n",
    "    messages_dict = json.load(f)"
   ]
  },
  {
   "cell_type": "code",
   "execution_count": 84,
   "id": "e2ad8bc6",
   "metadata": {},
   "outputs": [
    {
     "data": {
      "text/plain": [
       "dict_keys(['participants', 'messages', 'title', 'is_still_participant', 'thread_path', 'magic_words', 'image', 'joinable_mode'])"
      ]
     },
     "execution_count": 84,
     "metadata": {},
     "output_type": "execute_result"
    }
   ],
   "source": [
    "messages_dict.keys()"
   ]
  },
  {
   "cell_type": "code",
   "execution_count": 88,
   "id": "0ca2dad7",
   "metadata": {},
   "outputs": [],
   "source": [
    "#Function fixes wrong unicode encodings of cyrillic script\n",
    "def cyrillic_decoder(bad_decoding):\n",
    "    return bad_decoding.encode('latin1').decode('utf-8')"
   ]
  },
  {
   "cell_type": "code",
   "execution_count": 85,
   "id": "a15a556a",
   "metadata": {},
   "outputs": [],
   "source": [
    "name_chat = cyrillic_decoder(messages_dict['title'])\n",
    "members = [cyrillic_decoder(x['name']) for x in messages_dict['participants']]\n",
    "messages_bad = messages_dict['messages']"
   ]
  },
  {
   "cell_type": "code",
   "execution_count": 89,
   "id": "a8592e6c",
   "metadata": {},
   "outputs": [
    {
     "name": "stdout",
     "output_type": "stream",
     "text": [
      "971\n"
     ]
    }
   ],
   "source": [
    "ids_no_messages = []\n",
    "count_no_messages = 0\n",
    "for index, message in enumerate(messages_bad):\n",
    "    if message.get('content','no_content') == 'no_content':\n",
    "        count_no_messages +=1\n",
    "        ids_no_messages.append(index)\n",
    "print(count_no_messages)"
   ]
  },
  {
   "cell_type": "markdown",
   "id": "433e246f",
   "metadata": {},
   "source": [
    "## Preprocessing (Decode badly encoded characters to cyrillic)"
   ]
  },
  {
   "cell_type": "code",
   "execution_count": null,
   "id": "c66b34f5",
   "metadata": {},
   "outputs": [],
   "source": [
    "messages = []\n",
    "\n",
    "for message in messages_bad:\n",
    "\n",
    "    if message.get('content','no_content') != 'no_content':\n",
    "        message_dict = {'sender_name': cyrillic_decoder(message['sender_name']),\n",
    "                        'timestamp_ms': message['timestamp_ms'],\n",
    "                        'content': cyrillic_decoder(message['content'])}\n",
    "        messages.append(message_dict)\n"
   ]
  },
  {
   "cell_type": "code",
   "execution_count": null,
   "id": "18c4cfdd",
   "metadata": {},
   "outputs": [],
   "source": [
    "messages_df = pd.DataFrame.from_dict(messages)"
   ]
  }
 ],
 "metadata": {
  "kernelspec": {
   "display_name": "facebook_analyser",
   "language": "python",
   "name": "python3"
  },
  "language_info": {
   "codemirror_mode": {
    "name": "ipython",
    "version": 3
   },
   "file_extension": ".py",
   "mimetype": "text/x-python",
   "name": "python",
   "nbconvert_exporter": "python",
   "pygments_lexer": "ipython3",
   "version": "3.12.9"
  }
 },
 "nbformat": 4,
 "nbformat_minor": 5
}
