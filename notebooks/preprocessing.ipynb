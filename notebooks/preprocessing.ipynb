{
 "cells": [
  {
   "cell_type": "code",
   "execution_count": 20,
   "id": "6f1b1930",
   "metadata": {},
   "outputs": [],
   "source": [
    "import json\n",
    "import pandas as pd\n",
    "import os\n",
    "from transformers import pipeline\n",
    "from transformers.utils import logging"
   ]
  },
  {
   "cell_type": "markdown",
   "id": "97fb7f21",
   "metadata": {},
   "source": [
    "## Data Loading"
   ]
  },
  {
   "cell_type": "code",
   "execution_count": 2,
   "id": "4297e222",
   "metadata": {},
   "outputs": [],
   "source": [
    "folder_path = '/home/ivan/code/kostovI/facebook_analyser/raw_data'\n",
    "files = [f for f in os.listdir(folder_path) if os.path.isfile(os.path.join(folder_path, f))]\n",
    "\n",
    "messages_raw = []\n",
    "\n",
    "for file in files:\n",
    "\n",
    "    with open(f'{folder_path}/{file}', encoding='utf-8') as f:\n",
    "        message_dict = json.load(f)\n",
    "    message = message_dict['messages']\n",
    "    messages_raw += message"
   ]
  },
  {
   "cell_type": "code",
   "execution_count": 3,
   "id": "0ca2dad7",
   "metadata": {},
   "outputs": [],
   "source": [
    "#Function fixes wrong unicode encodings of cyrillic script\n",
    "def cyrillic_decoder(bad_decoding):\n",
    "    return bad_decoding.encode('latin1').decode('utf-8')"
   ]
  },
  {
   "cell_type": "code",
   "execution_count": 4,
   "id": "a15a556a",
   "metadata": {},
   "outputs": [],
   "source": [
    "name_chat = cyrillic_decoder(message_dict['title'])\n",
    "members = [cyrillic_decoder(x['name']) for x in message_dict['participants']]\n",
    "messages_bad = message_dict['messages']"
   ]
  },
  {
   "cell_type": "markdown",
   "id": "433e246f",
   "metadata": {},
   "source": [
    "## Preprocessing \n",
    "\n",
    "### 1. Decode badly encoded characters to cyrillic\n",
    "### 2. Identify the language of each text (English, Bulgarian, 6liokavica). 6liokavica will be identified as Bulgarian with low score\n",
    "### 2. Translate 6liokavica to cyrillic. Transliteration from latin script to cyrillic"
   ]
  },
  {
   "cell_type": "code",
   "execution_count": 5,
   "id": "c66b34f5",
   "metadata": {},
   "outputs": [],
   "source": [
    "messages = []\n",
    "\n",
    "for message in messages_raw:\n",
    "\n",
    "    if message.get('content','no_content') != 'no_content':\n",
    "        message_dict = {'sender_name': cyrillic_decoder(message['sender_name']),\n",
    "                        'timestamp_ms': message['timestamp_ms'],\n",
    "                        'content': cyrillic_decoder(message['content'])}\n",
    "        messages.append(message_dict)\n"
   ]
  },
  {
   "cell_type": "code",
   "execution_count": 6,
   "id": "18c4cfdd",
   "metadata": {},
   "outputs": [],
   "source": [
    "messages_df = pd.DataFrame.from_dict(messages)\n",
    "messages_df['timestamp_ms'] = pd.to_datetime(messages_df['timestamp_ms'], unit='ms')\n",
    "messages_df['date'] = messages_df['timestamp_ms'].dt.date\n",
    "messages_df.sort_values(by='timestamp_ms', ascending=False, inplace=True)"
   ]
  },
  {
   "cell_type": "code",
   "execution_count": null,
   "id": "6b879707",
   "metadata": {},
   "outputs": [],
   "source": [
    "model_ckpt = \"papluca/xlm-roberta-base-language-detection\"\n",
    "pipe = pipeline(\"text-classification\", model=model_ckpt, framework=\"tf\")"
   ]
  },
  {
   "cell_type": "code",
   "execution_count": 14,
   "id": "2f60638a",
   "metadata": {},
   "outputs": [],
   "source": [
    "def get_language(pipe, string):\n",
    "    return pipe(string)[0]['label']\n",
    "\n",
    "def get_language_score(pipe, string):\n",
    "    return pipe(string)[0]['score']"
   ]
  },
  {
   "cell_type": "code",
   "execution_count": 11,
   "id": "e89046ee",
   "metadata": {},
   "outputs": [
    {
     "data": {
      "text/plain": [
       "[{'label': 'it', 'score': 0.8945978283882141}]"
      ]
     },
     "execution_count": 11,
     "metadata": {},
     "output_type": "execute_result"
    }
   ],
   "source": [
    "pipe('4estit den na Bulgarskata kultura i pismenost')"
   ]
  },
  {
   "cell_type": "code",
   "execution_count": 21,
   "id": "32e3638f",
   "metadata": {},
   "outputs": [
    {
     "name": "stderr",
     "output_type": "stream",
     "text": [
      "INFO\n",
      "WARN\n"
     ]
    }
   ],
   "source": [
    "logging.set_verbosity_info()\n",
    "logger = logging.get_logger(\"transformers\")\n",
    "logger.info(\"INFO\")\n",
    "logger.warning(\"WARN\")"
   ]
  },
  {
   "cell_type": "code",
   "execution_count": null,
   "id": "68aff49e",
   "metadata": {},
   "outputs": [],
   "source": [
    "messages_df['language'] = messages_df['content'].apply(lambda x: get_language(pipe,x))"
   ]
  },
  {
   "cell_type": "code",
   "execution_count": null,
   "id": "bfbb13f6",
   "metadata": {},
   "outputs": [],
   "source": [
    "messages_df.head(20)"
   ]
  }
 ],
 "metadata": {
  "kernelspec": {
   "display_name": "facebook_analyser",
   "language": "python",
   "name": "python3"
  },
  "language_info": {
   "codemirror_mode": {
    "name": "ipython",
    "version": 3
   },
   "file_extension": ".py",
   "mimetype": "text/x-python",
   "name": "python",
   "nbconvert_exporter": "python",
   "pygments_lexer": "ipython3",
   "version": "3.12.9"
  }
 },
 "nbformat": 4,
 "nbformat_minor": 5
}
